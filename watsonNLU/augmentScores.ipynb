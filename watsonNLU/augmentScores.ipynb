{
 "cells": [
  {
   "cell_type": "markdown",
   "metadata": {},
   "source": [
    "Program that reads through csv file that contains date of each article and its sentiment score, and outputs the average sentiment score of every article on a date\n",
    "\n",
    "Need: \n",
    "    1. Open file\n",
    "    2. read all dates, scores\n",
    "    3. make dictionary of dates: ex: {\"april 1st\":[sscore1, score2, score3,..., scoren]}\n",
    "    4. output: a dictionary with keys: Date\n",
    "                                 value: average sentiment score on that day"
   ]
  },
  {
   "cell_type": "code",
   "execution_count": 38,
   "metadata": {},
   "outputs": [],
   "source": [
    "def averageScores(filename):\n",
    "    with open(filename, \"r\") as f:\n",
    "        reader = csv.reader(f)\n",
    "        header = next(reader)\n",
    "        scores = {}\n",
    "        #print(hea)\n",
    "        #fileout = open(\"augmentedTest.csv\", \"w\")\n",
    "        for row in reader:\n",
    "            #print(row)\n",
    "            #print(row[2])\n",
    "            #print(row[6])\n",
    "            #print(row[2].split('T')[0])\n",
    "            if row[2].split('T')[0] in scores:\n",
    "                scores[row[2].split('T')[0]].append(row[6])\n",
    "            else:\n",
    "                scores[row[2].split('T')[0]] = [row[6]]\n",
    "        for key in scores:\n",
    "            temp = 0\n",
    "            for value in scores[key]:\n",
    "                temp += float(value)\n",
    "            scores[key] = temp/ len(scores[key])\n",
    "    \n",
    "    return scores\n"
   ]
  },
  {
   "cell_type": "code",
   "execution_count": 41,
   "metadata": {
    "collapsed": true
   },
   "outputs": [],
   "source": [
    "# you just need to run this program on these files:\n",
    "apple = \"../datasets/apple_news_data_withScore.csv\"\n",
    "bp = \"../datasets/bp_news_data_withScore.csv\"\n",
    "tesla = \"../datasets/tesla_news_data_withScore.csv\"\n",
    "goldman = \"../datasets/goldman_news_data_withScore.csv\""
   ]
  },
  {
   "cell_type": "code",
   "execution_count": 40,
   "metadata": {},
   "outputs": [
    {
     "data": {
      "text/plain": [
       "{'2018-01-10': -0.660075,\n",
       " '2018-01-11': -0.256355,\n",
       " '2018-01-12': -0.502046,\n",
       " '2018-01-15': 0.0,\n",
       " '2018-01-16': -0.003598666666666676,\n",
       " '2018-01-17': -0.3723045,\n",
       " '2018-01-18': -0.06324875000000002,\n",
       " '2018-01-19': -0.4224665,\n",
       " '2018-01-23': 0.581222,\n",
       " '2018-01-26': 0.05427586666666665,\n",
       " '2018-01-31': -0.878648,\n",
       " '2018-02-04': -0.521556,\n",
       " '2018-02-06': -0.3778475,\n",
       " '2018-02-08': 0.39646,\n",
       " '2018-02-09': 0.0,\n",
       " '2018-02-12': -0.91033,\n",
       " '2018-02-14': -0.806912,\n",
       " '2018-02-15': -0.674649,\n",
       " '2018-02-16': 0.0,\n",
       " '2018-02-20': 0.0,\n",
       " '2018-02-21': 0.145201,\n",
       " '2018-02-22': 0.0,\n",
       " '2018-02-23': 0.0,\n",
       " '2018-02-27': -0.81785,\n",
       " '2018-03-07': -0.759332,\n",
       " '2018-03-13': 0.0,\n",
       " '2018-03-14': 0.578318,\n",
       " '2018-03-15': 0.0,\n",
       " '2018-03-16': 0.0,\n",
       " '2018-03-25': 0.0,\n",
       " '2018-03-29': -0.412903,\n",
       " '2018-04-10': 0.0}"
      ]
     },
     "execution_count": 40,
     "metadata": {},
     "output_type": "execute_result"
    }
   ],
   "source": [
    "averageScores(\"../datasets/bp_news_data_withScore.csv\")"
   ]
  }
 ],
 "metadata": {
  "kernelspec": {
   "display_name": "Python 3",
   "language": "python",
   "name": "python3"
  },
  "language_info": {
   "codemirror_mode": {
    "name": "ipython",
    "version": 3
   },
   "file_extension": ".py",
   "mimetype": "text/x-python",
   "name": "python",
   "nbconvert_exporter": "python",
   "pygments_lexer": "ipython3",
   "version": "3.6.1"
  }
 },
 "nbformat": 4,
 "nbformat_minor": 2
}
