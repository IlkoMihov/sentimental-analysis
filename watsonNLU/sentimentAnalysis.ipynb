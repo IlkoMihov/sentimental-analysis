{
 "cells": [
  {
   "cell_type": "code",
   "execution_count": 13,
   "metadata": {
    "collapsed": true
   },
   "outputs": [],
   "source": [
    "import csv\n",
    "import json\n",
    "from watson_developer_cloud import NaturalLanguageUnderstandingV1\n",
    "from watson_developer_cloud.natural_language_understanding_v1 \\\n",
    "  import Features, EntitiesOptions, KeywordsOptions, SentimentOptions\n",
    "    \n",
    "    \n",
    "def sentimentAnalysis(filename):\n",
    "    # Analyzes every entry's (title + description) with Bluemix Natural Language Understadning \n",
    "    # and appends sentiment value to the data entry\n",
    "    nlu = NaturalLanguageUnderstandingV1(\n",
    "      username='40de6523-64fc-40b5-a87c-4e1d674f02e9',\n",
    "      password='nms1o55i61mL',\n",
    "      version='2018-03-16')\n",
    "    i = 0\n",
    "    with open(filename) as f:\n",
    "        reader = csv.reader(f)\n",
    "        for row in reader:\n",
    "            article = row[0] + \" \" + row[4]\n",
    "            if \"bp\" in article.lower():\n",
    "                SentOpt = SentimentOptions(\n",
    "                targets = [\"bp\"])\n",
    "            else:\n",
    "                SentOpt = SentimentOptions(\n",
    "                document=True)\n",
    "            response = nlu.analyze(\n",
    "                text = article,\n",
    "                #html = article_html,\n",
    "                features=Features(\n",
    "                    entities=EntitiesOptions(\n",
    "                      emotion=True,\n",
    "                      sentiment=True,\n",
    "                      limit=2),\n",
    "\n",
    "                    sentiment=SentOpt\n",
    "                ))\n",
    "            \n",
    "            print(article)\n",
    "            #print(response)\n",
    "            if 'targets' in response['sentiment']:\n",
    "                print(\"The sentiment is: \" + str(response[\"sentiment\"]))\n",
    "                print(response[\"sentiment\"]['targets'][0]['score'])\n",
    "            else:\n",
    "                print(\"There were no targets, but the document score is: \" + str(response['sentiment']))\n",
    "                print(response['sentiment']['document']['score'])\n",
    "            print(\"-----------------------------\")\n",
    "            #print(article)\n",
    "            "
   ]
  },
  {
   "cell_type": "code",
   "execution_count": 3,
   "metadata": {
    "collapsed": true
   },
   "outputs": [],
   "source": [
    "nlu = NaturalLanguageUnderstandingV1(\n",
    "      username='40de6523-64fc-40b5-a87c-4e1d674f02e9',\n",
    "      password='nms1o55i61mL',\n",
    "      version='2018-03-16')\n",
    "sample_text = \"Title Description\"\n",
    "response = nlu.analyze(\n",
    "    text = sample_text,\n",
    "    #html = article_html,\n",
    "    features=Features(\n",
    "        entities=EntitiesOptions(\n",
    "          emotion=True,\n",
    "          sentiment=True,\n",
    "          limit=2),\n",
    "        \n",
    "        sentiment=SentimentOptions(\n",
    "            targets=[\"bp\", \"oil\"]\n",
    "          )\n",
    "    ))\n"
   ]
  },
  {
   "cell_type": "code",
   "execution_count": 4,
   "metadata": {},
   "outputs": [
    {
     "data": {
      "text/plain": [
       "{'entities': [],\n",
       " 'language': 'en',\n",
       " 'usage': {'features': 1, 'text_characters': 17, 'text_units': 1},\n",
       " 'warnings': ['sentiment: cannot locate keyphrase']}"
      ]
     },
     "execution_count": 4,
     "metadata": {},
     "output_type": "execute_result"
    }
   ],
   "source": [
    "response"
   ]
  },
  {
   "cell_type": "code",
   "execution_count": 5,
   "metadata": {},
   "outputs": [
    {
     "data": {
      "text/plain": [
       "False"
      ]
     },
     "execution_count": 5,
     "metadata": {},
     "output_type": "execute_result"
    }
   ],
   "source": [
    "\"sentiment\" in response"
   ]
  },
  {
   "cell_type": "code",
   "execution_count": 14,
   "metadata": {},
   "outputs": [
    {
     "name": "stdout",
     "output_type": "stream",
     "text": [
      "Title Description\n",
      "There were no targets, but the document score is: {'document': {'score': 0.0, 'label': 'neutral'}}\n",
      "0.0\n",
      "-----------------------------\n",
      "Why Courtney B. Vance Chose a Chevy Bolt Over a Tesla The comforting ‘Isle of Dogs’ narrator on riding a folding bike when cabs refused to pick him up, his 1,100-page Kindle reads and why he wishes Apple was a little less pushy.\n",
      "There were no targets, but the document score is: {'document': {'score': -0.573106, 'label': 'negative'}}\n",
      "-0.573106\n",
      "-----------------------------\n",
      "Volkswagen's Potential CEO Change Won't Impact CFO - Analysts Say Finance chief “an anchor of stability” at VW, helped guide company through fallout from emissions scandal\n",
      "There were no targets, but the document score is: {'document': {'score': 0.0, 'label': 'neutral'}}\n",
      "0.0\n",
      "-----------------------------\n",
      "That Driver Is Jamming Traffic---He's Probably Filming a Campaign Ad Videos of political candidates driving and gabbing have become a popular campaign gimmick, intended to show how they are just regular folks\n",
      "There were no targets, but the document score is: {'document': {'score': 0.736722, 'label': 'positive'}}\n",
      "0.736722\n",
      "-----------------------------\n",
      "The Wall Street Journal: Wells Fargo looks at own auto-lending issues as regulatory pressure builds Wells Fargo has expanded a review of auto products and services it finances as part of an effort to get ahead of heightened regulatory interest in the area, according to people familiar with the matter.\n",
      "There were no targets, but the document score is: {'document': {'score': 0.868204, 'label': 'positive'}}\n",
      "0.868204\n",
      "-----------------------------\n",
      "In Age of Uber and Tesla, Local Dealerships Face Conundrum Small to mid-size car dealer groups are selling their businesses to auto-retail giants or investment firms at a robust clip even as auto sales remain strong.\n",
      "There were no targets, but the document score is: {'document': {'score': 0.634186, 'label': 'positive'}}\n",
      "0.634186\n",
      "-----------------------------\n"
     ]
    }
   ],
   "source": [
    "header = ['Title', 'Author', 'Publish Date', 'Publisher', 'Description', 'url']\n",
    "file = \"../datasets/test.csv\"\n",
    "sentimentAnalysis(file)"
   ]
  }
 ],
 "metadata": {
  "kernelspec": {
   "display_name": "Python 3",
   "language": "python",
   "name": "python3"
  },
  "language_info": {
   "codemirror_mode": {
    "name": "ipython",
    "version": 3
   },
   "file_extension": ".py",
   "mimetype": "text/x-python",
   "name": "python",
   "nbconvert_exporter": "python",
   "pygments_lexer": "ipython3",
   "version": "3.6.1"
  }
 },
 "nbformat": 4,
 "nbformat_minor": 2
}
